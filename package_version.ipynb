{
 "cells": [
  {
   "cell_type": "code",
   "execution_count": 1,
   "metadata": {},
   "outputs": [
    {
     "name": "stdout",
     "output_type": "stream",
     "text": [
      "torch version: 1.12.0+cpu\n",
      "pandas version: 1.2.4\n",
      "scipy version: 1.11.3\n",
      "numpy version: 1.26.2\n",
      "scikit-learn version: 1.3.2\n",
      "tqdm version: 4.66.1\n",
      "cppimport version: 22.8.2\n",
      "pybind11 version: 2.11.1\n"
     ]
    }
   ],
   "source": [
    "import torch\n",
    "import pandas as pd\n",
    "import scipy\n",
    "import numpy as np\n",
    "import sklearn\n",
    "import tqdm\n",
    "import cppimport\n",
    "import pybind11\n",
    "\n",
    "print(\"torch version:\", torch.__version__)\n",
    "print(\"pandas version:\", pd.__version__)\n",
    "print(\"scipy version:\", scipy.__version__)\n",
    "print(\"numpy version:\", np.__version__)\n",
    "print(\"scikit-learn version:\", sklearn.__version__)\n",
    "print(\"tqdm version:\", tqdm.__version__)\n",
    "print(\"cppimport version:\", cppimport.__version__)\n",
    "print(\"pybind11 version:\", pybind11.__version__)"
   ]
  }
 ],
 "metadata": {
  "kernelspec": {
   "display_name": "d2l",
   "language": "python",
   "name": "python3"
  },
  "language_info": {
   "codemirror_mode": {
    "name": "ipython",
    "version": 3
   },
   "file_extension": ".py",
   "mimetype": "text/x-python",
   "name": "python",
   "nbconvert_exporter": "python",
   "pygments_lexer": "ipython3",
   "version": "3.9.18"
  }
 },
 "nbformat": 4,
 "nbformat_minor": 2
}
